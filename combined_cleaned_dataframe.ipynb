{
 "cells": [
  {
   "cell_type": "code",
   "execution_count": 88,
   "id": "deb87bad",
   "metadata": {},
   "outputs": [
    {
     "name": "stdout",
     "output_type": "stream",
     "text": [
      "time: 899 µs (started: 2021-12-01 14:07:10 -05:00)\n"
     ]
    }
   ],
   "source": [
    "import pandas as pd"
   ]
  },
  {
   "cell_type": "code",
   "execution_count": 89,
   "id": "d614645a",
   "metadata": {},
   "outputs": [
    {
     "name": "stdout",
     "output_type": "stream",
     "text": [
      "The autotime extension is already loaded. To reload it, use:\n",
      "  %reload_ext autotime\n",
      "time: 1.25 ms (started: 2021-12-01 14:07:11 -05:00)\n"
     ]
    }
   ],
   "source": [
    "%load_ext autotime"
   ]
  },
  {
   "cell_type": "code",
   "execution_count": 90,
   "id": "3d645579",
   "metadata": {},
   "outputs": [
    {
     "name": "stdout",
     "output_type": "stream",
     "text": [
      "time: 3 ms (started: 2021-12-01 14:07:11 -05:00)\n"
     ]
    }
   ],
   "source": [
    "# Accepts: nothing\n",
    "# Returns: nothing\n",
    "\n",
    "def clean_spott_api():\n",
    "    spott_df = pd.read_csv('spott_df.csv')\n",
    "    \n",
    "    # Drop excess columns\n",
    "    spott_df = spott_df.drop(columns='Unnamed: 0')\n",
    "    "
   ]
  },
  {
   "cell_type": "code",
   "execution_count": 91,
   "id": "faf902f5",
   "metadata": {},
   "outputs": [
    {
     "name": "stdout",
     "output_type": "stream",
     "text": [
      "time: 7.57 ms (started: 2021-12-01 14:07:11 -05:00)\n"
     ]
    }
   ],
   "source": [
    "clean_spott_api()"
   ]
  },
  {
   "cell_type": "code",
   "execution_count": 92,
   "id": "83cf82b9",
   "metadata": {},
   "outputs": [
    {
     "data": {
      "text/html": [
       "<div>\n",
       "<style scoped>\n",
       "    .dataframe tbody tr th:only-of-type {\n",
       "        vertical-align: middle;\n",
       "    }\n",
       "\n",
       "    .dataframe tbody tr th {\n",
       "        vertical-align: top;\n",
       "    }\n",
       "\n",
       "    .dataframe thead th {\n",
       "        text-align: right;\n",
       "    }\n",
       "</style>\n",
       "<table border=\"1\" class=\"dataframe\">\n",
       "  <thead>\n",
       "    <tr style=\"text-align: right;\">\n",
       "      <th></th>\n",
       "      <th>Cities</th>\n",
       "      <th>Population</th>\n",
       "      <th>Elevation</th>\n",
       "    </tr>\n",
       "  </thead>\n",
       "  <tbody>\n",
       "    <tr>\n",
       "      <th>0</th>\n",
       "      <td>Tokyo</td>\n",
       "      <td>8336599.0</td>\n",
       "      <td>44.0</td>\n",
       "    </tr>\n",
       "    <tr>\n",
       "      <th>1</th>\n",
       "      <td>Jakarta</td>\n",
       "      <td>8540121.0</td>\n",
       "      <td>16.0</td>\n",
       "    </tr>\n",
       "    <tr>\n",
       "      <th>2</th>\n",
       "      <td>New York</td>\n",
       "      <td>8175133.0</td>\n",
       "      <td>10.0</td>\n",
       "    </tr>\n",
       "    <tr>\n",
       "      <th>3</th>\n",
       "      <td>Seoul</td>\n",
       "      <td>10349312.0</td>\n",
       "      <td>38.0</td>\n",
       "    </tr>\n",
       "    <tr>\n",
       "      <th>4</th>\n",
       "      <td>Mumbai</td>\n",
       "      <td>12691836.0</td>\n",
       "      <td>8.0</td>\n",
       "    </tr>\n",
       "  </tbody>\n",
       "</table>\n",
       "</div>"
      ],
      "text/plain": [
       "      Cities  Population  Elevation\n",
       "0      Tokyo   8336599.0       44.0\n",
       "1    Jakarta   8540121.0       16.0\n",
       "2  New York    8175133.0       10.0\n",
       "3      Seoul  10349312.0       38.0\n",
       "4    Mumbai   12691836.0        8.0"
      ]
     },
     "execution_count": 92,
     "metadata": {},
     "output_type": "execute_result"
    },
    {
     "name": "stdout",
     "output_type": "stream",
     "text": [
      "time: 8.02 ms (started: 2021-12-01 14:07:11 -05:00)\n"
     ]
    }
   ],
   "source": [
    "spott_df.head()"
   ]
  },
  {
   "cell_type": "code",
   "execution_count": 93,
   "id": "8dedc3e1",
   "metadata": {},
   "outputs": [
    {
     "name": "stdout",
     "output_type": "stream",
     "text": [
      "time: 4.64 ms (started: 2021-12-01 14:07:11 -05:00)\n"
     ]
    }
   ],
   "source": [
    "# Accepts: nothing\n",
    "\n",
    "# Returns: nothing\n",
    "\n",
    "def clean_waqi_api():\n",
    "    waqi_df = pd.read_csv('waqi_df.csv')\n",
    "    \n",
    "    # Drop excess columns\n",
    "    waqi_df = waqi_df.drop(columns=['Unnamed: 0', 'uvi', 'date'])\n",
    "    \n",
    "    # Change column names\n",
    "    waqi_df = waqi_df.rename(columns={'cities': 'Cities', 'aqi': 'AQI','latitude': 'Latitude', 'longitude': 'Longitude', 'pm25': 'PM25', 'pm10': 'PM10', 'o3':'O3'})\n",
    "    \n",
    "    "
   ]
  },
  {
   "cell_type": "code",
   "execution_count": 94,
   "id": "3f5e8c3f",
   "metadata": {},
   "outputs": [
    {
     "name": "stdout",
     "output_type": "stream",
     "text": [
      "time: 9.35 ms (started: 2021-12-01 14:07:12 -05:00)\n"
     ]
    }
   ],
   "source": [
    "clean_waqi_api()"
   ]
  },
  {
   "cell_type": "code",
   "execution_count": 95,
   "id": "7ec0de12",
   "metadata": {},
   "outputs": [
    {
     "data": {
      "text/html": [
       "<div>\n",
       "<style scoped>\n",
       "    .dataframe tbody tr th:only-of-type {\n",
       "        vertical-align: middle;\n",
       "    }\n",
       "\n",
       "    .dataframe tbody tr th {\n",
       "        vertical-align: top;\n",
       "    }\n",
       "\n",
       "    .dataframe thead th {\n",
       "        text-align: right;\n",
       "    }\n",
       "</style>\n",
       "<table border=\"1\" class=\"dataframe\">\n",
       "  <thead>\n",
       "    <tr style=\"text-align: right;\">\n",
       "      <th></th>\n",
       "      <th>Cities</th>\n",
       "      <th>AQI</th>\n",
       "      <th>Latitude</th>\n",
       "      <th>Longitude</th>\n",
       "      <th>PM25</th>\n",
       "      <th>PM10</th>\n",
       "      <th>O3</th>\n",
       "    </tr>\n",
       "  </thead>\n",
       "  <tbody>\n",
       "    <tr>\n",
       "      <th>0</th>\n",
       "      <td>Tokyo</td>\n",
       "      <td>34</td>\n",
       "      <td>35.641463</td>\n",
       "      <td>139.698171</td>\n",
       "      <td>30.0</td>\n",
       "      <td>29.0</td>\n",
       "      <td>1.0</td>\n",
       "    </tr>\n",
       "    <tr>\n",
       "      <th>1</th>\n",
       "      <td>Jakarta</td>\n",
       "      <td>74</td>\n",
       "      <td>-6.182536</td>\n",
       "      <td>106.834236</td>\n",
       "      <td>74.0</td>\n",
       "      <td>78.0</td>\n",
       "      <td>1.0</td>\n",
       "    </tr>\n",
       "    <tr>\n",
       "      <th>2</th>\n",
       "      <td>New York</td>\n",
       "      <td>114</td>\n",
       "      <td>40.712784</td>\n",
       "      <td>-74.005941</td>\n",
       "      <td>114.0</td>\n",
       "      <td>50.0</td>\n",
       "      <td>2.0</td>\n",
       "    </tr>\n",
       "    <tr>\n",
       "      <th>3</th>\n",
       "      <td>Seoul</td>\n",
       "      <td>68</td>\n",
       "      <td>37.566535</td>\n",
       "      <td>126.977969</td>\n",
       "      <td>68.0</td>\n",
       "      <td>23.0</td>\n",
       "      <td>1.0</td>\n",
       "    </tr>\n",
       "    <tr>\n",
       "      <th>4</th>\n",
       "      <td>Mumbai</td>\n",
       "      <td>173</td>\n",
       "      <td>19.072830</td>\n",
       "      <td>72.882610</td>\n",
       "      <td>173.0</td>\n",
       "      <td>46.0</td>\n",
       "      <td>9.0</td>\n",
       "    </tr>\n",
       "  </tbody>\n",
       "</table>\n",
       "</div>"
      ],
      "text/plain": [
       "      Cities  AQI   Latitude   Longitude   PM25  PM10   O3\n",
       "0      Tokyo   34  35.641463  139.698171   30.0  29.0  1.0\n",
       "1    Jakarta   74  -6.182536  106.834236   74.0  78.0  1.0\n",
       "2  New York   114  40.712784  -74.005941  114.0  50.0  2.0\n",
       "3      Seoul   68  37.566535  126.977969   68.0  23.0  1.0\n",
       "4    Mumbai   173  19.072830   72.882610  173.0  46.0  9.0"
      ]
     },
     "execution_count": 95,
     "metadata": {},
     "output_type": "execute_result"
    },
    {
     "name": "stdout",
     "output_type": "stream",
     "text": [
      "time: 13 ms (started: 2021-12-01 14:07:12 -05:00)\n"
     ]
    }
   ],
   "source": [
    "waqi_df.head()"
   ]
  },
  {
   "cell_type": "code",
   "execution_count": 96,
   "id": "f8012d66",
   "metadata": {},
   "outputs": [
    {
     "name": "stdout",
     "output_type": "stream",
     "text": [
      "time: 3.76 ms (started: 2021-12-01 14:07:13 -05:00)\n"
     ]
    }
   ],
   "source": [
    "def clean_and_combine_df():\n",
    "    # Merge\n",
    "    combined_df = spott_df.merge(waqi_df, how='inner', on='Cities')\n",
    "    \n",
    "    # Drop columns with NA values\n",
    "    combined_df = combined_df.dropna()\n",
    "    \n",
    "    # Reset index\n",
    "    combined_df = combined_df.reset_index().drop(columns='index')\n",
    "    "
   ]
  },
  {
   "cell_type": "code",
   "execution_count": 97,
   "id": "f7159063",
   "metadata": {},
   "outputs": [
    {
     "name": "stdout",
     "output_type": "stream",
     "text": [
      "time: 9.61 ms (started: 2021-12-01 14:07:13 -05:00)\n"
     ]
    }
   ],
   "source": [
    "clean_and_combine_df()"
   ]
  },
  {
   "cell_type": "code",
   "execution_count": 98,
   "id": "057906c7",
   "metadata": {},
   "outputs": [
    {
     "data": {
      "text/html": [
       "<div>\n",
       "<style scoped>\n",
       "    .dataframe tbody tr th:only-of-type {\n",
       "        vertical-align: middle;\n",
       "    }\n",
       "\n",
       "    .dataframe tbody tr th {\n",
       "        vertical-align: top;\n",
       "    }\n",
       "\n",
       "    .dataframe thead th {\n",
       "        text-align: right;\n",
       "    }\n",
       "</style>\n",
       "<table border=\"1\" class=\"dataframe\">\n",
       "  <thead>\n",
       "    <tr style=\"text-align: right;\">\n",
       "      <th></th>\n",
       "      <th>Cities</th>\n",
       "      <th>Population</th>\n",
       "      <th>Elevation</th>\n",
       "      <th>AQI</th>\n",
       "      <th>Latitude</th>\n",
       "      <th>Longitude</th>\n",
       "      <th>PM25</th>\n",
       "      <th>PM10</th>\n",
       "      <th>O3</th>\n",
       "    </tr>\n",
       "  </thead>\n",
       "  <tbody>\n",
       "    <tr>\n",
       "      <th>0</th>\n",
       "      <td>Tokyo</td>\n",
       "      <td>8336599.0</td>\n",
       "      <td>44.0</td>\n",
       "      <td>34</td>\n",
       "      <td>35.641463</td>\n",
       "      <td>139.698171</td>\n",
       "      <td>30.0</td>\n",
       "      <td>29.0</td>\n",
       "      <td>1.0</td>\n",
       "    </tr>\n",
       "    <tr>\n",
       "      <th>1</th>\n",
       "      <td>Jakarta</td>\n",
       "      <td>8540121.0</td>\n",
       "      <td>16.0</td>\n",
       "      <td>74</td>\n",
       "      <td>-6.182536</td>\n",
       "      <td>106.834236</td>\n",
       "      <td>74.0</td>\n",
       "      <td>78.0</td>\n",
       "      <td>1.0</td>\n",
       "    </tr>\n",
       "    <tr>\n",
       "      <th>2</th>\n",
       "      <td>New York</td>\n",
       "      <td>8175133.0</td>\n",
       "      <td>10.0</td>\n",
       "      <td>114</td>\n",
       "      <td>40.712784</td>\n",
       "      <td>-74.005941</td>\n",
       "      <td>114.0</td>\n",
       "      <td>50.0</td>\n",
       "      <td>2.0</td>\n",
       "    </tr>\n",
       "    <tr>\n",
       "      <th>3</th>\n",
       "      <td>Seoul</td>\n",
       "      <td>10349312.0</td>\n",
       "      <td>38.0</td>\n",
       "      <td>68</td>\n",
       "      <td>37.566535</td>\n",
       "      <td>126.977969</td>\n",
       "      <td>68.0</td>\n",
       "      <td>23.0</td>\n",
       "      <td>1.0</td>\n",
       "    </tr>\n",
       "    <tr>\n",
       "      <th>4</th>\n",
       "      <td>Mumbai</td>\n",
       "      <td>12691836.0</td>\n",
       "      <td>8.0</td>\n",
       "      <td>173</td>\n",
       "      <td>19.072830</td>\n",
       "      <td>72.882610</td>\n",
       "      <td>173.0</td>\n",
       "      <td>46.0</td>\n",
       "      <td>9.0</td>\n",
       "    </tr>\n",
       "    <tr>\n",
       "      <th>...</th>\n",
       "      <td>...</td>\n",
       "      <td>...</td>\n",
       "      <td>...</td>\n",
       "      <td>...</td>\n",
       "      <td>...</td>\n",
       "      <td>...</td>\n",
       "      <td>...</td>\n",
       "      <td>...</td>\n",
       "      <td>...</td>\n",
       "    </tr>\n",
       "    <tr>\n",
       "      <th>484</th>\n",
       "      <td>Vientiane</td>\n",
       "      <td>196731.0</td>\n",
       "      <td>174.0</td>\n",
       "      <td>70</td>\n",
       "      <td>17.896122</td>\n",
       "      <td>102.640000</td>\n",
       "      <td>70.0</td>\n",
       "      <td>28.0</td>\n",
       "      <td>14.0</td>\n",
       "    </tr>\n",
       "    <tr>\n",
       "      <th>485</th>\n",
       "      <td>Yicheng</td>\n",
       "      <td>176006.0</td>\n",
       "      <td>10.0</td>\n",
       "      <td>38</td>\n",
       "      <td>31.354200</td>\n",
       "      <td>119.817700</td>\n",
       "      <td>38.0</td>\n",
       "      <td>58.0</td>\n",
       "      <td>1.0</td>\n",
       "    </tr>\n",
       "    <tr>\n",
       "      <th>486</th>\n",
       "      <td>Skoplje</td>\n",
       "      <td>474889.0</td>\n",
       "      <td>247.0</td>\n",
       "      <td>55</td>\n",
       "      <td>41.992500</td>\n",
       "      <td>21.423611</td>\n",
       "      <td>55.0</td>\n",
       "      <td>18.0</td>\n",
       "      <td>18.0</td>\n",
       "    </tr>\n",
       "    <tr>\n",
       "      <th>487</th>\n",
       "      <td>Dali</td>\n",
       "      <td>14760.0</td>\n",
       "      <td>1517.0</td>\n",
       "      <td>22</td>\n",
       "      <td>25.581100</td>\n",
       "      <td>100.217100</td>\n",
       "      <td>17.0</td>\n",
       "      <td>19.0</td>\n",
       "      <td>3.0</td>\n",
       "    </tr>\n",
       "    <tr>\n",
       "      <th>488</th>\n",
       "      <td>Rasht</td>\n",
       "      <td>594590.0</td>\n",
       "      <td>4.0</td>\n",
       "      <td>117</td>\n",
       "      <td>37.316581</td>\n",
       "      <td>49.606528</td>\n",
       "      <td>2.0</td>\n",
       "      <td>42.0</td>\n",
       "      <td>3.0</td>\n",
       "    </tr>\n",
       "  </tbody>\n",
       "</table>\n",
       "<p>489 rows × 9 columns</p>\n",
       "</div>"
      ],
      "text/plain": [
       "        Cities  Population  Elevation  AQI   Latitude   Longitude   PM25  \\\n",
       "0        Tokyo   8336599.0       44.0   34  35.641463  139.698171   30.0   \n",
       "1      Jakarta   8540121.0       16.0   74  -6.182536  106.834236   74.0   \n",
       "2    New York    8175133.0       10.0  114  40.712784  -74.005941  114.0   \n",
       "3        Seoul  10349312.0       38.0   68  37.566535  126.977969   68.0   \n",
       "4      Mumbai   12691836.0        8.0  173  19.072830   72.882610  173.0   \n",
       "..         ...         ...        ...  ...        ...         ...    ...   \n",
       "484  Vientiane    196731.0      174.0   70  17.896122  102.640000   70.0   \n",
       "485    Yicheng    176006.0       10.0   38  31.354200  119.817700   38.0   \n",
       "486    Skoplje    474889.0      247.0   55  41.992500   21.423611   55.0   \n",
       "487       Dali     14760.0     1517.0   22  25.581100  100.217100   17.0   \n",
       "488      Rasht    594590.0        4.0  117  37.316581   49.606528    2.0   \n",
       "\n",
       "     PM10    O3  \n",
       "0    29.0   1.0  \n",
       "1    78.0   1.0  \n",
       "2    50.0   2.0  \n",
       "3    23.0   1.0  \n",
       "4    46.0   9.0  \n",
       "..    ...   ...  \n",
       "484  28.0  14.0  \n",
       "485  58.0   1.0  \n",
       "486  18.0  18.0  \n",
       "487  19.0   3.0  \n",
       "488  42.0   3.0  \n",
       "\n",
       "[489 rows x 9 columns]"
      ]
     },
     "execution_count": 98,
     "metadata": {},
     "output_type": "execute_result"
    },
    {
     "name": "stdout",
     "output_type": "stream",
     "text": [
      "time: 22.1 ms (started: 2021-12-01 14:07:14 -05:00)\n"
     ]
    }
   ],
   "source": [
    "combined_df"
   ]
  },
  {
   "cell_type": "code",
   "execution_count": 99,
   "id": "d7a2a96d",
   "metadata": {},
   "outputs": [
    {
     "name": "stdout",
     "output_type": "stream",
     "text": [
      "time: 14.4 ms (started: 2021-12-01 14:07:15 -05:00)\n"
     ]
    }
   ],
   "source": [
    "combined_df.to_csv('combined_df.csv')"
   ]
  },
  {
   "cell_type": "code",
   "execution_count": null,
   "id": "41ba545d",
   "metadata": {},
   "outputs": [],
   "source": []
  }
 ],
 "metadata": {
  "kernelspec": {
   "display_name": "Python 3",
   "language": "python",
   "name": "python3"
  },
  "language_info": {
   "codemirror_mode": {
    "name": "ipython",
    "version": 3
   },
   "file_extension": ".py",
   "mimetype": "text/x-python",
   "name": "python",
   "nbconvert_exporter": "python",
   "pygments_lexer": "ipython3",
   "version": "3.6.13"
  }
 },
 "nbformat": 4,
 "nbformat_minor": 5
}
