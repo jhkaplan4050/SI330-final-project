{
 "cells": [
  {
   "cell_type": "code",
   "execution_count": 43,
   "id": "84e74bd0",
   "metadata": {},
   "outputs": [
    {
     "name": "stdout",
     "output_type": "stream",
     "text": [
      "The autotime extension is already loaded. To reload it, use:\n",
      "  %reload_ext autotime\n",
      "time: 5.16 ms (started: 2021-12-03 16:42:38 -05:00)\n"
     ]
    }
   ],
   "source": [
    "import pandas as pd\n",
    "import matplotlib.pyplot as plt\n",
    "import numpy as np\n",
    "from scipy import stats\n",
    "import folium\n",
    "\n",
    "%load_ext autotime"
   ]
  },
  {
   "cell_type": "code",
   "execution_count": null,
   "id": "a7b06681",
   "metadata": {},
   "outputs": [],
   "source": []
  },
  {
   "cell_type": "code",
   "execution_count": null,
   "id": "99805ea1",
   "metadata": {},
   "outputs": [],
   "source": []
  },
  {
   "cell_type": "markdown",
   "id": "259e63a4",
   "metadata": {},
   "source": [
    "<h1 align=\"center\">An Analysis of Worldwide Air Quality</h1>"
   ]
  },
  {
   "cell_type": "markdown",
   "id": "0e0517b7",
   "metadata": {},
   "source": [
    "## Problem Statement"
   ]
  },
  {
   "cell_type": "markdown",
   "id": "1cb3ff29",
   "metadata": {},
   "source": [
    "Our goal of the project was the answer the following question: \n",
    "\n",
    "- Is there a correlation between population size and air quality?\n",
    "- Additionally, is there a correlation between elevation and air quality?\n",
    "- Finally, how does each of the three pollutants correlate with air quality?"
   ]
  },
  {
   "cell_type": "markdown",
   "id": "785d2b74",
   "metadata": {},
   "source": [
    "## Data"
   ]
  },
  {
   "cell_type": "markdown",
   "id": "9101acb3",
   "metadata": {},
   "source": [
    "To answer our questions, we used data from two APIs: Air Quality Programmatic API and the Spott REST API. \n",
    "\n",
    "The Air Quality Programmatic API provides city level data about air quality index and individual pollutants (PM2.5, PM10, Ozone (O3)). The API also provides data on city latitude and longitude. \n",
    "\n",
    "The Spott API provides city level data on population and elevation through directly searching for the city's name. "
   ]
  },
  {
   "cell_type": "markdown",
   "id": "9a874b7f",
   "metadata": {},
   "source": [
    "### Air Quality Programmatic API"
   ]
  },
  {
   "cell_type": "markdown",
   "id": "89cf2944",
   "metadata": {},
   "source": [
    "First, we webscraped data, using Beautiful Soup, to gather the 1000 most populated cities in the world. The website we scraped data from is https://data.mongabay.com/cities_pop_01.htm'.  "
   ]
  },
  {
   "cell_type": "markdown",
   "id": "c92c0fef",
   "metadata": {},
   "source": [
    "Once we webscrapped the 1000 most populated cities, we ran the list of cities through the Air Quality Programmatic API. After dropping N/A data, we stored the data in a csv format. There are 526 rows and 9 columns. The size of the stored data is 35 KB."
   ]
  },
  {
   "cell_type": "code",
   "execution_count": 28,
   "id": "e9b2cab2",
   "metadata": {},
   "outputs": [
    {
     "data": {
      "text/html": [
       "<div>\n",
       "<style scoped>\n",
       "    .dataframe tbody tr th:only-of-type {\n",
       "        vertical-align: middle;\n",
       "    }\n",
       "\n",
       "    .dataframe tbody tr th {\n",
       "        vertical-align: top;\n",
       "    }\n",
       "\n",
       "    .dataframe thead th {\n",
       "        text-align: right;\n",
       "    }\n",
       "</style>\n",
       "<table border=\"1\" class=\"dataframe\">\n",
       "  <thead>\n",
       "    <tr style=\"text-align: right;\">\n",
       "      <th></th>\n",
       "      <th>Unnamed: 0</th>\n",
       "      <th>cities</th>\n",
       "      <th>aqi</th>\n",
       "      <th>latitude</th>\n",
       "      <th>longitude</th>\n",
       "      <th>pm25</th>\n",
       "      <th>pm10</th>\n",
       "      <th>o3</th>\n",
       "      <th>uvi</th>\n",
       "      <th>date</th>\n",
       "    </tr>\n",
       "  </thead>\n",
       "  <tbody>\n",
       "    <tr>\n",
       "      <th>85</th>\n",
       "      <td>114</td>\n",
       "      <td>Rome</td>\n",
       "      <td>30</td>\n",
       "      <td>41.893267</td>\n",
       "      <td>12.475385</td>\n",
       "      <td>30.0</td>\n",
       "      <td>16.0</td>\n",
       "      <td>11.0</td>\n",
       "      <td>0.0</td>\n",
       "      <td>11-30-2021</td>\n",
       "    </tr>\n",
       "    <tr>\n",
       "      <th>321</th>\n",
       "      <td>552</td>\n",
       "      <td>Jinzhou</td>\n",
       "      <td>78</td>\n",
       "      <td>41.095120</td>\n",
       "      <td>121.127004</td>\n",
       "      <td>78.0</td>\n",
       "      <td>17.0</td>\n",
       "      <td>9.0</td>\n",
       "      <td>0.0</td>\n",
       "      <td>11-30-2021</td>\n",
       "    </tr>\n",
       "    <tr>\n",
       "      <th>19</th>\n",
       "      <td>23</td>\n",
       "      <td>Nagoya</td>\n",
       "      <td>26</td>\n",
       "      <td>35.181446</td>\n",
       "      <td>136.906398</td>\n",
       "      <td>17.0</td>\n",
       "      <td>18.0</td>\n",
       "      <td>2.0</td>\n",
       "      <td>1.0</td>\n",
       "      <td>11-30-2021</td>\n",
       "    </tr>\n",
       "    <tr>\n",
       "      <th>213</th>\n",
       "      <td>329</td>\n",
       "      <td>Yiyang</td>\n",
       "      <td>95</td>\n",
       "      <td>28.553860</td>\n",
       "      <td>112.355180</td>\n",
       "      <td>95.0</td>\n",
       "      <td>28.0</td>\n",
       "      <td>10.0</td>\n",
       "      <td>1.0</td>\n",
       "      <td>11-30-2021</td>\n",
       "    </tr>\n",
       "    <tr>\n",
       "      <th>105</th>\n",
       "      <td>144</td>\n",
       "      <td>Tampa</td>\n",
       "      <td>19</td>\n",
       "      <td>27.928333</td>\n",
       "      <td>-82.454444</td>\n",
       "      <td>19.0</td>\n",
       "      <td>11.0</td>\n",
       "      <td>10.0</td>\n",
       "      <td>1.0</td>\n",
       "      <td>11-30-2021</td>\n",
       "    </tr>\n",
       "  </tbody>\n",
       "</table>\n",
       "</div>"
      ],
      "text/plain": [
       "     Unnamed: 0    cities aqi   latitude   longitude  pm25  pm10    o3  uvi  \\\n",
       "85          114      Rome  30  41.893267   12.475385  30.0  16.0  11.0  0.0   \n",
       "321         552  Jinzhou   78  41.095120  121.127004  78.0  17.0   9.0  0.0   \n",
       "19           23    Nagoya  26  35.181446  136.906398  17.0  18.0   2.0  1.0   \n",
       "213         329    Yiyang  95  28.553860  112.355180  95.0  28.0  10.0  1.0   \n",
       "105         144    Tampa   19  27.928333  -82.454444  19.0  11.0  10.0  1.0   \n",
       "\n",
       "           date  \n",
       "85   11-30-2021  \n",
       "321  11-30-2021  \n",
       "19   11-30-2021  \n",
       "213  11-30-2021  \n",
       "105  11-30-2021  "
      ]
     },
     "execution_count": 28,
     "metadata": {},
     "output_type": "execute_result"
    },
    {
     "name": "stdout",
     "output_type": "stream",
     "text": [
      "time: 19.1 ms (started: 2021-12-03 16:22:50 -05:00)\n"
     ]
    }
   ],
   "source": [
    "air_quality_api = pd.read_csv('waqi_df.csv')\n",
    "air_quality_api.sample(5)"
   ]
  },
  {
   "cell_type": "markdown",
   "id": "cdfe1f88",
   "metadata": {},
   "source": [
    "### Spott API"
   ]
  },
  {
   "cell_type": "markdown",
   "id": "57626013",
   "metadata": {},
   "source": [
    "For the Spott API, are main contraint was the number of free requests we received. Per account, Spott only granted us 1000 requests. To limit the number of requests, we made a list of cities from the Air Quality API and ran those cities through the Spott API.\n",
    "\n",
    "We stored the data in a csv format. There are 526 rows and 3 columns. The size of the stored data is 14 KB."
   ]
  },
  {
   "cell_type": "code",
   "execution_count": 29,
   "id": "a9447373",
   "metadata": {},
   "outputs": [
    {
     "data": {
      "text/html": [
       "<div>\n",
       "<style scoped>\n",
       "    .dataframe tbody tr th:only-of-type {\n",
       "        vertical-align: middle;\n",
       "    }\n",
       "\n",
       "    .dataframe tbody tr th {\n",
       "        vertical-align: top;\n",
       "    }\n",
       "\n",
       "    .dataframe thead th {\n",
       "        text-align: right;\n",
       "    }\n",
       "</style>\n",
       "<table border=\"1\" class=\"dataframe\">\n",
       "  <thead>\n",
       "    <tr style=\"text-align: right;\">\n",
       "      <th></th>\n",
       "      <th>Unnamed: 0</th>\n",
       "      <th>Cities</th>\n",
       "      <th>Population</th>\n",
       "      <th>Elevation</th>\n",
       "    </tr>\n",
       "  </thead>\n",
       "  <tbody>\n",
       "    <tr>\n",
       "      <th>217</th>\n",
       "      <td>217</td>\n",
       "      <td>Huaian</td>\n",
       "      <td>NaN</td>\n",
       "      <td>NaN</td>\n",
       "    </tr>\n",
       "    <tr>\n",
       "      <th>368</th>\n",
       "      <td>368</td>\n",
       "      <td>Nantong</td>\n",
       "      <td>666251.0</td>\n",
       "      <td>6.0</td>\n",
       "    </tr>\n",
       "    <tr>\n",
       "      <th>59</th>\n",
       "      <td>59</td>\n",
       "      <td>Barcelona</td>\n",
       "      <td>1621537.0</td>\n",
       "      <td>15.0</td>\n",
       "    </tr>\n",
       "    <tr>\n",
       "      <th>104</th>\n",
       "      <td>104</td>\n",
       "      <td>Nanchang</td>\n",
       "      <td>2357839.0</td>\n",
       "      <td>20.0</td>\n",
       "    </tr>\n",
       "    <tr>\n",
       "      <th>40</th>\n",
       "      <td>40</td>\n",
       "      <td>Santiago</td>\n",
       "      <td>4837295.0</td>\n",
       "      <td>556.0</td>\n",
       "    </tr>\n",
       "  </tbody>\n",
       "</table>\n",
       "</div>"
      ],
      "text/plain": [
       "     Unnamed: 0     Cities  Population  Elevation\n",
       "217         217     Huaian         NaN        NaN\n",
       "368         368    Nantong    666251.0        6.0\n",
       "59           59  Barcelona   1621537.0       15.0\n",
       "104         104   Nanchang   2357839.0       20.0\n",
       "40           40   Santiago   4837295.0      556.0"
      ]
     },
     "execution_count": 29,
     "metadata": {},
     "output_type": "execute_result"
    },
    {
     "name": "stdout",
     "output_type": "stream",
     "text": [
      "time: 16 ms (started: 2021-12-03 16:22:52 -05:00)\n"
     ]
    }
   ],
   "source": [
    "spott_api = pd.read_csv('spott_df.csv')\n",
    "spott_api.sample(5)"
   ]
  },
  {
   "cell_type": "markdown",
   "id": "0efdbc29",
   "metadata": {},
   "source": [
    "## Data Cleaning and Manipulation - Julia"
   ]
  },
  {
   "cell_type": "code",
   "execution_count": null,
   "id": "5e46a7d2",
   "metadata": {},
   "outputs": [],
   "source": []
  },
  {
   "cell_type": "markdown",
   "id": "3cce7000",
   "metadata": {},
   "source": [
    "## Time Complexity - Together"
   ]
  },
  {
   "cell_type": "markdown",
   "id": "324ac928",
   "metadata": {},
   "source": [
    "## Analysis - Analese"
   ]
  },
  {
   "cell_type": "markdown",
   "id": "48c6154f",
   "metadata": {},
   "source": [
    "## Take-aways"
   ]
  },
  {
   "cell_type": "markdown",
   "id": "85505f20",
   "metadata": {},
   "source": [
    "The factor that by far had the highest correlation with Air Quality Index was the measure of the PM25 pollutant. The relationship is strong and appears to be significant. Further testing will more thoroughly analyze the significance of the relationship between PM25 levels and Air Quality Index levels. Another route we could take in the future is to gather data from cities other than the 1000 most populated cities in the world. We wonder how the correlations we analyzed would differ from medium-sized cities and small towns."
   ]
  },
  {
   "cell_type": "markdown",
   "id": "a6f69650",
   "metadata": {},
   "source": [
    "## References"
   ]
  },
  {
   "cell_type": "code",
   "execution_count": null,
   "id": "55ee0459",
   "metadata": {},
   "outputs": [],
   "source": []
  }
 ],
 "metadata": {
  "kernelspec": {
   "display_name": "Python 3",
   "language": "python",
   "name": "python3"
  },
  "language_info": {
   "codemirror_mode": {
    "name": "ipython",
    "version": 3
   },
   "file_extension": ".py",
   "mimetype": "text/x-python",
   "name": "python",
   "nbconvert_exporter": "python",
   "pygments_lexer": "ipython3",
   "version": "3.6.13"
  }
 },
 "nbformat": 4,
 "nbformat_minor": 5
}
