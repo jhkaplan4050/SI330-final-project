{
 "cells": [
  {
   "cell_type": "code",
   "execution_count": 1,
   "id": "84e74bd0",
   "metadata": {},
   "outputs": [
    {
     "name": "stdout",
     "output_type": "stream",
     "text": [
      "time: 5.25 ms (started: 2021-12-04 15:39:43 -05:00)\n"
     ]
    }
   ],
   "source": [
    "import pandas as pd\n",
    "import matplotlib.pyplot as plt\n",
    "import numpy as np\n",
    "from scipy import stats\n",
    "import folium\n",
    "\n",
    "%load_ext autotime"
   ]
  },
  {
   "cell_type": "code",
   "execution_count": null,
   "id": "a7b06681",
   "metadata": {},
   "outputs": [],
   "source": []
  },
  {
   "cell_type": "code",
   "execution_count": null,
   "id": "99805ea1",
   "metadata": {},
   "outputs": [],
   "source": []
  },
  {
   "cell_type": "markdown",
   "id": "259e63a4",
   "metadata": {},
   "source": [
    "<h1 align=\"center\">An Analysis of Worldwide Air Quality</h1>"
   ]
  },
  {
   "cell_type": "markdown",
   "id": "0e0517b7",
   "metadata": {},
   "source": [
    "## Problem Statement"
   ]
  },
  {
   "cell_type": "markdown",
   "id": "1cb3ff29",
   "metadata": {},
   "source": [
    "Our goal of the project was the answer the following question: \n",
    "\n",
    "- Is there a correlation between population size and air quality?\n",
    "- Additionally, is there a correlation between elevation and air quality?\n",
    "- Finally, how does each of the three pollutants correlate with air quality?"
   ]
  },
  {
   "cell_type": "markdown",
   "id": "785d2b74",
   "metadata": {},
   "source": [
    "## Data"
   ]
  },
  {
   "cell_type": "markdown",
   "id": "9101acb3",
   "metadata": {},
   "source": [
    "To answer our questions, we used data from two APIs: Air Quality Programmatic API and the Spott REST API. \n",
    "\n",
    "The Air Quality Programmatic API provides city level data about air quality index and individual pollutants (PM2.5, PM10, Ozone (O3)). The API also provides data on city latitude and longitude. \n",
    "\n",
    "The Spott API provides city level data on population and elevation through directly searching for the city's name. "
   ]
  },
  {
   "cell_type": "markdown",
   "id": "9a874b7f",
   "metadata": {},
   "source": [
    "### Air Quality Programmatic API"
   ]
  },
  {
   "cell_type": "markdown",
   "id": "89cf2944",
   "metadata": {},
   "source": [
    "First, we webscraped data, using Beautiful Soup, to gather the 1000 most populated cities in the world. The website we scraped data from is https://data.mongabay.com/cities_pop_01.htm'.  "
   ]
  },
  {
   "cell_type": "markdown",
   "id": "c92c0fef",
   "metadata": {},
   "source": [
    "Once we webscrapped the 1000 most populated cities, we ran the list of cities through the Air Quality Programmatic API. After dropping N/A data, we stored the data in a csv format. There are 526 rows and 9 columns. The size of the stored data is 35 KB."
   ]
  },
  {
   "cell_type": "code",
   "execution_count": 2,
   "id": "e9b2cab2",
   "metadata": {},
   "outputs": [
    {
     "data": {
      "text/html": [
       "<div>\n",
       "<style scoped>\n",
       "    .dataframe tbody tr th:only-of-type {\n",
       "        vertical-align: middle;\n",
       "    }\n",
       "\n",
       "    .dataframe tbody tr th {\n",
       "        vertical-align: top;\n",
       "    }\n",
       "\n",
       "    .dataframe thead th {\n",
       "        text-align: right;\n",
       "    }\n",
       "</style>\n",
       "<table border=\"1\" class=\"dataframe\">\n",
       "  <thead>\n",
       "    <tr style=\"text-align: right;\">\n",
       "      <th></th>\n",
       "      <th>Unnamed: 0</th>\n",
       "      <th>cities</th>\n",
       "      <th>aqi</th>\n",
       "      <th>latitude</th>\n",
       "      <th>longitude</th>\n",
       "      <th>pm25</th>\n",
       "      <th>pm10</th>\n",
       "      <th>o3</th>\n",
       "      <th>uvi</th>\n",
       "      <th>date</th>\n",
       "    </tr>\n",
       "  </thead>\n",
       "  <tbody>\n",
       "    <tr>\n",
       "      <th>322</th>\n",
       "      <td>554</td>\n",
       "      <td>Chenghai</td>\n",
       "      <td>68</td>\n",
       "      <td>23.471400</td>\n",
       "      <td>116.751900</td>\n",
       "      <td>68.0</td>\n",
       "      <td>26.0</td>\n",
       "      <td>10.0</td>\n",
       "      <td>2.0</td>\n",
       "      <td>11-30-2021</td>\n",
       "    </tr>\n",
       "    <tr>\n",
       "      <th>379</th>\n",
       "      <td>674</td>\n",
       "      <td>Huaibei</td>\n",
       "      <td>25</td>\n",
       "      <td>33.955845</td>\n",
       "      <td>116.798265</td>\n",
       "      <td>25.0</td>\n",
       "      <td>51.0</td>\n",
       "      <td>1.0</td>\n",
       "      <td>1.0</td>\n",
       "      <td>11-30-2021</td>\n",
       "    </tr>\n",
       "    <tr>\n",
       "      <th>327</th>\n",
       "      <td>567</td>\n",
       "      <td>Saratov</td>\n",
       "      <td>42</td>\n",
       "      <td>51.520030</td>\n",
       "      <td>46.023620</td>\n",
       "      <td>42.0</td>\n",
       "      <td>9.0</td>\n",
       "      <td>18.0</td>\n",
       "      <td>2.0</td>\n",
       "      <td>11-30-2021</td>\n",
       "    </tr>\n",
       "    <tr>\n",
       "      <th>77</th>\n",
       "      <td>102</td>\n",
       "      <td>Jeddah</td>\n",
       "      <td>147</td>\n",
       "      <td>21.543486</td>\n",
       "      <td>39.172990</td>\n",
       "      <td>147.0</td>\n",
       "      <td>82.0</td>\n",
       "      <td>13.0</td>\n",
       "      <td>1.0</td>\n",
       "      <td>11-30-2021</td>\n",
       "    </tr>\n",
       "    <tr>\n",
       "      <th>422</th>\n",
       "      <td>762</td>\n",
       "      <td>Mexicali</td>\n",
       "      <td>42</td>\n",
       "      <td>32.640028</td>\n",
       "      <td>-115.474639</td>\n",
       "      <td>34.0</td>\n",
       "      <td>19.0</td>\n",
       "      <td>6.0</td>\n",
       "      <td>0.0</td>\n",
       "      <td>11-30-2021</td>\n",
       "    </tr>\n",
       "  </tbody>\n",
       "</table>\n",
       "</div>"
      ],
      "text/plain": [
       "     Unnamed: 0    cities  aqi   latitude   longitude   pm25  pm10    o3  uvi  \\\n",
       "322         554  Chenghai   68  23.471400  116.751900   68.0  26.0  10.0  2.0   \n",
       "379         674   Huaibei   25  33.955845  116.798265   25.0  51.0   1.0  1.0   \n",
       "327         567   Saratov   42  51.520030   46.023620   42.0   9.0  18.0  2.0   \n",
       "77          102   Jeddah   147  21.543486   39.172990  147.0  82.0  13.0  1.0   \n",
       "422         762  Mexicali   42  32.640028 -115.474639   34.0  19.0   6.0  0.0   \n",
       "\n",
       "           date  \n",
       "322  11-30-2021  \n",
       "379  11-30-2021  \n",
       "327  11-30-2021  \n",
       "77   11-30-2021  \n",
       "422  11-30-2021  "
      ]
     },
     "execution_count": 2,
     "metadata": {},
     "output_type": "execute_result"
    },
    {
     "name": "stdout",
     "output_type": "stream",
     "text": [
      "time: 32.5 ms (started: 2021-12-04 15:39:43 -05:00)\n"
     ]
    }
   ],
   "source": [
    "air_quality_api = pd.read_csv('waqi_df.csv')\n",
    "air_quality_api.sample(5)"
   ]
  },
  {
   "cell_type": "markdown",
   "id": "cdfe1f88",
   "metadata": {},
   "source": [
    "### Spott API"
   ]
  },
  {
   "cell_type": "markdown",
   "id": "57626013",
   "metadata": {},
   "source": [
    "For the Spott API, are main contraint was the number of free requests we received. Per account, Spott only granted us 1000 requests. To limit the number of requests, we made a list of cities from the Air Quality API and ran those cities through the Spott API.\n",
    "\n",
    "We stored the data in a csv format. There are 526 rows and 3 columns. The size of the stored data is 14 KB."
   ]
  },
  {
   "cell_type": "code",
   "execution_count": 3,
   "id": "a9447373",
   "metadata": {},
   "outputs": [
    {
     "data": {
      "text/html": [
       "<div>\n",
       "<style scoped>\n",
       "    .dataframe tbody tr th:only-of-type {\n",
       "        vertical-align: middle;\n",
       "    }\n",
       "\n",
       "    .dataframe tbody tr th {\n",
       "        vertical-align: top;\n",
       "    }\n",
       "\n",
       "    .dataframe thead th {\n",
       "        text-align: right;\n",
       "    }\n",
       "</style>\n",
       "<table border=\"1\" class=\"dataframe\">\n",
       "  <thead>\n",
       "    <tr style=\"text-align: right;\">\n",
       "      <th></th>\n",
       "      <th>Unnamed: 0</th>\n",
       "      <th>Cities</th>\n",
       "      <th>Population</th>\n",
       "      <th>Elevation</th>\n",
       "    </tr>\n",
       "  </thead>\n",
       "  <tbody>\n",
       "    <tr>\n",
       "      <th>389</th>\n",
       "      <td>389</td>\n",
       "      <td>Linfen</td>\n",
       "      <td>232566.0</td>\n",
       "      <td>451.0</td>\n",
       "    </tr>\n",
       "    <tr>\n",
       "      <th>28</th>\n",
       "      <td>28</td>\n",
       "      <td>Chennai</td>\n",
       "      <td>4328063.0</td>\n",
       "      <td>14.0</td>\n",
       "    </tr>\n",
       "    <tr>\n",
       "      <th>388</th>\n",
       "      <td>388</td>\n",
       "      <td>Cuernavaca</td>\n",
       "      <td>338650.0</td>\n",
       "      <td>1540.0</td>\n",
       "    </tr>\n",
       "    <tr>\n",
       "      <th>345</th>\n",
       "      <td>345</td>\n",
       "      <td>Yinchuan</td>\n",
       "      <td>475101.0</td>\n",
       "      <td>1117.0</td>\n",
       "    </tr>\n",
       "    <tr>\n",
       "      <th>468</th>\n",
       "      <td>468</td>\n",
       "      <td>Dortmund</td>\n",
       "      <td>588462.0</td>\n",
       "      <td>96.0</td>\n",
       "    </tr>\n",
       "  </tbody>\n",
       "</table>\n",
       "</div>"
      ],
      "text/plain": [
       "     Unnamed: 0      Cities  Population  Elevation\n",
       "389         389      Linfen    232566.0      451.0\n",
       "28           28    Chennai    4328063.0       14.0\n",
       "388         388  Cuernavaca    338650.0     1540.0\n",
       "345         345    Yinchuan    475101.0     1117.0\n",
       "468         468    Dortmund    588462.0       96.0"
      ]
     },
     "execution_count": 3,
     "metadata": {},
     "output_type": "execute_result"
    },
    {
     "name": "stdout",
     "output_type": "stream",
     "text": [
      "time: 12.8 ms (started: 2021-12-04 15:39:44 -05:00)\n"
     ]
    }
   ],
   "source": [
    "spott_api = pd.read_csv('spott_df.csv')\n",
    "spott_api.sample(5)"
   ]
  },
  {
   "cell_type": "markdown",
   "id": "0efdbc29",
   "metadata": {},
   "source": [
    "## Data Cleaning and Manipulation - Julia"
   ]
  },
  {
   "cell_type": "code",
   "execution_count": 4,
   "id": "5e46a7d2",
   "metadata": {},
   "outputs": [
    {
     "name": "stdout",
     "output_type": "stream",
     "text": [
      "time: 4.97 ms (started: 2021-12-04 15:39:44 -05:00)\n"
     ]
    }
   ],
   "source": [
    "import functions"
   ]
  },
  {
   "cell_type": "markdown",
   "id": "72a9b8db",
   "metadata": {},
   "source": [
    "First, we cleaned both the individual APIs. In the Spott API, we dropped the \"Unamed: 0\" column, a column that appears when we read csv files."
   ]
  },
  {
   "cell_type": "code",
   "execution_count": 5,
   "id": "85f77769",
   "metadata": {},
   "outputs": [
    {
     "data": {
      "text/html": [
       "<div>\n",
       "<style scoped>\n",
       "    .dataframe tbody tr th:only-of-type {\n",
       "        vertical-align: middle;\n",
       "    }\n",
       "\n",
       "    .dataframe tbody tr th {\n",
       "        vertical-align: top;\n",
       "    }\n",
       "\n",
       "    .dataframe thead th {\n",
       "        text-align: right;\n",
       "    }\n",
       "</style>\n",
       "<table border=\"1\" class=\"dataframe\">\n",
       "  <thead>\n",
       "    <tr style=\"text-align: right;\">\n",
       "      <th></th>\n",
       "      <th>Cities</th>\n",
       "      <th>Population</th>\n",
       "      <th>Elevation</th>\n",
       "    </tr>\n",
       "  </thead>\n",
       "  <tbody>\n",
       "    <tr>\n",
       "      <th>451</th>\n",
       "      <td>Jeonju</td>\n",
       "      <td>711424.0</td>\n",
       "      <td>44.0</td>\n",
       "    </tr>\n",
       "    <tr>\n",
       "      <th>134</th>\n",
       "      <td>Wenzhou</td>\n",
       "      <td>865672.0</td>\n",
       "      <td>10.0</td>\n",
       "    </tr>\n",
       "    <tr>\n",
       "      <th>241</th>\n",
       "      <td>Jabalpur</td>\n",
       "      <td>1030168.0</td>\n",
       "      <td>416.0</td>\n",
       "    </tr>\n",
       "  </tbody>\n",
       "</table>\n",
       "</div>"
      ],
      "text/plain": [
       "       Cities  Population  Elevation\n",
       "451   Jeonju     711424.0       44.0\n",
       "134   Wenzhou    865672.0       10.0\n",
       "241  Jabalpur   1030168.0      416.0"
      ]
     },
     "execution_count": 5,
     "metadata": {},
     "output_type": "execute_result"
    },
    {
     "name": "stdout",
     "output_type": "stream",
     "text": [
      "time: 13.2 ms (started: 2021-12-04 15:39:45 -05:00)\n"
     ]
    }
   ],
   "source": [
    "spott_df = functions.clean_spott_api('spott_df.csv')\n",
    "spott_df.sample(3)"
   ]
  },
  {
   "cell_type": "markdown",
   "id": "0e1cf7ce",
   "metadata": {},
   "source": [
    "Second, we cleaned the WAQI API. We dropped the \"Unamed:0, UVI, and Date columns as we no longer needed them in our analysis. We also renamed all of the column names from lowercase to capitalized. "
   ]
  },
  {
   "cell_type": "code",
   "execution_count": 6,
   "id": "9ff595a0",
   "metadata": {},
   "outputs": [
    {
     "data": {
      "text/html": [
       "<div>\n",
       "<style scoped>\n",
       "    .dataframe tbody tr th:only-of-type {\n",
       "        vertical-align: middle;\n",
       "    }\n",
       "\n",
       "    .dataframe tbody tr th {\n",
       "        vertical-align: top;\n",
       "    }\n",
       "\n",
       "    .dataframe thead th {\n",
       "        text-align: right;\n",
       "    }\n",
       "</style>\n",
       "<table border=\"1\" class=\"dataframe\">\n",
       "  <thead>\n",
       "    <tr style=\"text-align: right;\">\n",
       "      <th></th>\n",
       "      <th>Cities</th>\n",
       "      <th>AQI</th>\n",
       "      <th>Latitude</th>\n",
       "      <th>Longitude</th>\n",
       "      <th>PM25</th>\n",
       "      <th>PM10</th>\n",
       "      <th>O3</th>\n",
       "    </tr>\n",
       "  </thead>\n",
       "  <tbody>\n",
       "    <tr>\n",
       "      <th>125</th>\n",
       "      <td>Chaoyang</td>\n",
       "      <td>34</td>\n",
       "      <td>41.573734</td>\n",
       "      <td>120.450372</td>\n",
       "      <td>34.0</td>\n",
       "      <td>10.0</td>\n",
       "      <td>10.0</td>\n",
       "    </tr>\n",
       "    <tr>\n",
       "      <th>79</th>\n",
       "      <td>Kabul</td>\n",
       "      <td>193</td>\n",
       "      <td>34.554382</td>\n",
       "      <td>69.204600</td>\n",
       "      <td>193.0</td>\n",
       "      <td>27.0</td>\n",
       "      <td>27.0</td>\n",
       "    </tr>\n",
       "    <tr>\n",
       "      <th>141</th>\n",
       "      <td>Tangshan</td>\n",
       "      <td>50</td>\n",
       "      <td>39.630867</td>\n",
       "      <td>118.180194</td>\n",
       "      <td>50.0</td>\n",
       "      <td>40.0</td>\n",
       "      <td>1.0</td>\n",
       "    </tr>\n",
       "  </tbody>\n",
       "</table>\n",
       "</div>"
      ],
      "text/plain": [
       "        Cities  AQI   Latitude   Longitude   PM25  PM10    O3\n",
       "125  Chaoyang    34  41.573734  120.450372   34.0  10.0  10.0\n",
       "79       Kabul  193  34.554382   69.204600  193.0  27.0  27.0\n",
       "141   Tangshan   50  39.630867  118.180194   50.0  40.0   1.0"
      ]
     },
     "execution_count": 6,
     "metadata": {},
     "output_type": "execute_result"
    },
    {
     "name": "stdout",
     "output_type": "stream",
     "text": [
      "time: 18.9 ms (started: 2021-12-04 15:39:46 -05:00)\n"
     ]
    }
   ],
   "source": [
    "waqi_df = functions.clean_waqi_api('waqi_df.csv')\n",
    "waqi_df.sample(3)"
   ]
  },
  {
   "cell_type": "markdown",
   "id": "206f720c",
   "metadata": {},
   "source": [
    "Then, we merged both datasets together."
   ]
  },
  {
   "cell_type": "code",
   "execution_count": 7,
   "id": "f99599ea",
   "metadata": {},
   "outputs": [
    {
     "data": {
      "text/html": [
       "<div>\n",
       "<style scoped>\n",
       "    .dataframe tbody tr th:only-of-type {\n",
       "        vertical-align: middle;\n",
       "    }\n",
       "\n",
       "    .dataframe tbody tr th {\n",
       "        vertical-align: top;\n",
       "    }\n",
       "\n",
       "    .dataframe thead th {\n",
       "        text-align: right;\n",
       "    }\n",
       "</style>\n",
       "<table border=\"1\" class=\"dataframe\">\n",
       "  <thead>\n",
       "    <tr style=\"text-align: right;\">\n",
       "      <th></th>\n",
       "      <th>Cities</th>\n",
       "      <th>Population</th>\n",
       "      <th>Elevation</th>\n",
       "      <th>AQI</th>\n",
       "      <th>Latitude</th>\n",
       "      <th>Longitude</th>\n",
       "      <th>PM25</th>\n",
       "      <th>PM10</th>\n",
       "      <th>O3</th>\n",
       "    </tr>\n",
       "  </thead>\n",
       "  <tbody>\n",
       "    <tr>\n",
       "      <th>353</th>\n",
       "      <td>Dandong</td>\n",
       "      <td>631973.0</td>\n",
       "      <td>10.0</td>\n",
       "      <td>34</td>\n",
       "      <td>40.000500</td>\n",
       "      <td>124.354707</td>\n",
       "      <td>34.0</td>\n",
       "      <td>38.0</td>\n",
       "      <td>3.0</td>\n",
       "    </tr>\n",
       "    <tr>\n",
       "      <th>427</th>\n",
       "      <td>Jeonju</td>\n",
       "      <td>711424.0</td>\n",
       "      <td>44.0</td>\n",
       "      <td>42</td>\n",
       "      <td>35.824224</td>\n",
       "      <td>127.147953</td>\n",
       "      <td>42.0</td>\n",
       "      <td>23.0</td>\n",
       "      <td>1.0</td>\n",
       "    </tr>\n",
       "    <tr>\n",
       "      <th>448</th>\n",
       "      <td>Glasgow</td>\n",
       "      <td>591620.0</td>\n",
       "      <td>40.0</td>\n",
       "      <td>16</td>\n",
       "      <td>55.859170</td>\n",
       "      <td>-4.258889</td>\n",
       "      <td>10.0</td>\n",
       "      <td>10.0</td>\n",
       "      <td>17.0</td>\n",
       "    </tr>\n",
       "  </tbody>\n",
       "</table>\n",
       "</div>"
      ],
      "text/plain": [
       "      Cities  Population  Elevation AQI   Latitude   Longitude  PM25  PM10  \\\n",
       "353  Dandong    631973.0       10.0  34  40.000500  124.354707  34.0  38.0   \n",
       "427  Jeonju     711424.0       44.0  42  35.824224  127.147953  42.0  23.0   \n",
       "448  Glasgow    591620.0       40.0  16  55.859170   -4.258889  10.0  10.0   \n",
       "\n",
       "       O3  \n",
       "353   3.0  \n",
       "427   1.0  \n",
       "448  17.0  "
      ]
     },
     "execution_count": 7,
     "metadata": {},
     "output_type": "execute_result"
    },
    {
     "name": "stdout",
     "output_type": "stream",
     "text": [
      "time: 25.2 ms (started: 2021-12-04 15:39:46 -05:00)\n"
     ]
    }
   ],
   "source": [
    "merged_df = functions.clean_and_combine_df(spott_df, waqi_df)\n",
    "merged_df.sample(3)"
   ]
  },
  {
   "cell_type": "code",
   "execution_count": 8,
   "id": "5980f18b",
   "metadata": {},
   "outputs": [
    {
     "data": {
      "text/html": [
       "<div>\n",
       "<style scoped>\n",
       "    .dataframe tbody tr th:only-of-type {\n",
       "        vertical-align: middle;\n",
       "    }\n",
       "\n",
       "    .dataframe tbody tr th {\n",
       "        vertical-align: top;\n",
       "    }\n",
       "\n",
       "    .dataframe thead th {\n",
       "        text-align: right;\n",
       "    }\n",
       "</style>\n",
       "<table border=\"1\" class=\"dataframe\">\n",
       "  <thead>\n",
       "    <tr style=\"text-align: right;\">\n",
       "      <th></th>\n",
       "      <th>Cities</th>\n",
       "      <th>Population</th>\n",
       "      <th>Elevation</th>\n",
       "      <th>AQI</th>\n",
       "      <th>Latitude</th>\n",
       "      <th>Longitude</th>\n",
       "      <th>PM25</th>\n",
       "      <th>PM10</th>\n",
       "      <th>O3</th>\n",
       "      <th>Marker_Color</th>\n",
       "      <th>Summary</th>\n",
       "    </tr>\n",
       "  </thead>\n",
       "  <tbody>\n",
       "    <tr>\n",
       "      <th>10</th>\n",
       "      <td>Los Angeles</td>\n",
       "      <td>3971883.0</td>\n",
       "      <td>89.0</td>\n",
       "      <td>64</td>\n",
       "      <td>34.066530</td>\n",
       "      <td>-118.226760</td>\n",
       "      <td>57.0</td>\n",
       "      <td>60.0</td>\n",
       "      <td>4.0</td>\n",
       "      <td>yellow</td>\n",
       "      <td>Name: Los Angeles  \\n Population: 3971883.0 \\n...</td>\n",
       "    </tr>\n",
       "    <tr>\n",
       "      <th>12</th>\n",
       "      <td>Moscow</td>\n",
       "      <td>10381222.0</td>\n",
       "      <td>144.0</td>\n",
       "      <td>12</td>\n",
       "      <td>55.759354</td>\n",
       "      <td>37.595584</td>\n",
       "      <td>21.0</td>\n",
       "      <td>28.0</td>\n",
       "      <td>5.0</td>\n",
       "      <td>green</td>\n",
       "      <td>Name: Moscow \\n Population: 10381222.0 \\n Elev...</td>\n",
       "    </tr>\n",
       "    <tr>\n",
       "      <th>24</th>\n",
       "      <td>Tehran</td>\n",
       "      <td>7153309.0</td>\n",
       "      <td>1178.0</td>\n",
       "      <td>163</td>\n",
       "      <td>35.686719</td>\n",
       "      <td>51.422419</td>\n",
       "      <td>163.0</td>\n",
       "      <td>62.0</td>\n",
       "      <td>1.0</td>\n",
       "      <td>red</td>\n",
       "      <td>Name: Tehran \\n Population: 7153309.0 \\n Eleva...</td>\n",
       "    </tr>\n",
       "  </tbody>\n",
       "</table>\n",
       "</div>"
      ],
      "text/plain": [
       "          Cities  Population  Elevation  AQI   Latitude   Longitude   PM25  \\\n",
       "10  Los Angeles    3971883.0       89.0   64  34.066530 -118.226760   57.0   \n",
       "12        Moscow  10381222.0      144.0   12  55.759354   37.595584   21.0   \n",
       "24        Tehran   7153309.0     1178.0  163  35.686719   51.422419  163.0   \n",
       "\n",
       "    PM10   O3 Marker_Color                                            Summary  \n",
       "10  60.0  4.0       yellow  Name: Los Angeles  \\n Population: 3971883.0 \\n...  \n",
       "12  28.0  5.0        green  Name: Moscow \\n Population: 10381222.0 \\n Elev...  \n",
       "24  62.0  1.0          red  Name: Tehran \\n Population: 7153309.0 \\n Eleva...  "
      ]
     },
     "execution_count": 8,
     "metadata": {},
     "output_type": "execute_result"
    },
    {
     "name": "stdout",
     "output_type": "stream",
     "text": [
      "time: 37.2 ms (started: 2021-12-04 15:39:47 -05:00)\n"
     ]
    }
   ],
   "source": [
    "prepped_cities = functions.prep_cities_for_mapping()\n",
    "prepped_cities.sample(3)"
   ]
  },
  {
   "cell_type": "code",
   "execution_count": 9,
   "id": "adbc1359",
   "metadata": {},
   "outputs": [
    {
     "name": "stdout",
     "output_type": "stream",
     "text": [
      "time: 530 µs (started: 2021-12-04 15:39:47 -05:00)\n"
     ]
    }
   ],
   "source": [
    "# Having problems uploading the map"
   ]
  },
  {
   "cell_type": "code",
   "execution_count": 15,
   "id": "cd95b0b1",
   "metadata": {},
   "outputs": [
    {
     "name": "stdout",
     "output_type": "stream",
     "text": [
      "time: 9.52 ms (started: 2021-12-04 15:42:53 -05:00)\n"
     ]
    }
   ],
   "source": [
    "df_correlations = functions.clean_df('combined_df.csv')\n",
    "parameter_dict = functions.set_parameters(df_correlations)"
   ]
  },
  {
   "cell_type": "code",
   "execution_count": 16,
   "id": "b1dea77f",
   "metadata": {},
   "outputs": [
    {
     "data": {
      "image/png": "[encoded data removed]",
      "text/plain": [
       "<Figure size 432x288 with 1 Axes>"
      ]
     },
     "metadata": {
      "needs_background": "light"
     },
     "output_type": "display_data"
    },
    {
     "ename": "NameError",
     "evalue": "name 'aqi' is not defined",
     "output_type": "error",
     "traceback": [
      "\u001b[0;31m---------------------------------------------------------------------------\u001b[0m",
      "\u001b[0;31mNameError\u001b[0m                                 Traceback (most recent call last)",
      "\u001b[0;32m<ipython-input-16-427fb780ddac>\u001b[0m in \u001b[0;36m<module>\u001b[0;34m()\u001b[0m\n\u001b[0;32m----> 1\u001b[0;31m \u001b[0mfunctions\u001b[0m\u001b[0;34m.\u001b[0m\u001b[0mcreate_figure1\u001b[0m\u001b[0;34m(\u001b[0m\u001b[0mparameter_dict\u001b[0m\u001b[0;34m)\u001b[0m\u001b[0;34m\u001b[0m\u001b[0;34m\u001b[0m\u001b[0m\n\u001b[0m",
      "\u001b[0;32m/Users/JuliaKaplan/Desktop/SI330/SI330-final-project/functions.py\u001b[0m in \u001b[0;36mcreate_figure1\u001b[0;34m(params)\u001b[0m\n\u001b[1;32m    183\u001b[0m     \u001b[0mplt\u001b[0m\u001b[0;34m.\u001b[0m\u001b[0mshow\u001b[0m\u001b[0;34m(\u001b[0m\u001b[0;34m)\u001b[0m\u001b[0;34m\u001b[0m\u001b[0;34m\u001b[0m\u001b[0m\n\u001b[1;32m    184\u001b[0m     \u001b[0;31m#correlation coefficient, p-value\u001b[0m\u001b[0;34m\u001b[0m\u001b[0;34m\u001b[0m\u001b[0;34m\u001b[0m\u001b[0m\n\u001b[0;32m--> 185\u001b[0;31m     \u001b[0mprint\u001b[0m\u001b[0;34m(\u001b[0m\u001b[0;34m\"correlation coefficient, p-value:\"\u001b[0m\u001b[0;34m,\u001b[0m \u001b[0mstats\u001b[0m\u001b[0;34m.\u001b[0m\u001b[0mpearsonr\u001b[0m\u001b[0;34m(\u001b[0m\u001b[0maqi\u001b[0m\u001b[0;34m,\u001b[0m \u001b[0mpopulation\u001b[0m\u001b[0;34m)\u001b[0m\u001b[0;34m)\u001b[0m\u001b[0;34m\u001b[0m\u001b[0;34m\u001b[0m\u001b[0m\n\u001b[0m\u001b[1;32m    186\u001b[0m \u001b[0;34m\u001b[0m\u001b[0m\n\u001b[1;32m    187\u001b[0m \u001b[0;34m\u001b[0m\u001b[0m\n",
      "\u001b[0;31mNameError\u001b[0m: name 'aqi' is not defined"
     ]
    },
    {
     "name": "stdout",
     "output_type": "stream",
     "text": [
      "time: 142 ms (started: 2021-12-04 15:42:54 -05:00)\n"
     ]
    }
   ],
   "source": [
    "functions.create_figure1(parameter_dict)"
   ]
  },
  {
   "cell_type": "markdown",
   "id": "3cce7000",
   "metadata": {},
   "source": [
    "## Time Complexity - Together"
   ]
  },
  {
   "cell_type": "code",
   "execution_count": null,
   "id": "3be7c549",
   "metadata": {},
   "outputs": [],
   "source": []
  },
  {
   "cell_type": "markdown",
   "id": "324ac928",
   "metadata": {},
   "source": [
    "## Analysis - Analese"
   ]
  },
  {
   "cell_type": "markdown",
   "id": "48c6154f",
   "metadata": {},
   "source": [
    "## Take-aways"
   ]
  },
  {
   "cell_type": "markdown",
   "id": "85505f20",
   "metadata": {},
   "source": [
    "The factor that by far had the highest correlation with Air Quality Index was the measure of the PM25 pollutant. The relationship is strong and appears to be significant. Further testing will more thoroughly analyze the significance of the relationship between PM25 levels and Air Quality Index levels. Another route we could take in the future is to gather data from cities other than the 1000 most populated cities in the world. We wonder how the correlations we analyzed would differ from medium-sized cities and small towns."
   ]
  },
  {
   "cell_type": "markdown",
   "id": "a6f69650",
   "metadata": {},
   "source": [
    "## References"
   ]
  },
  {
   "cell_type": "code",
   "execution_count": null,
   "id": "55ee0459",
   "metadata": {},
   "outputs": [],
   "source": []
  }
 ],
 "metadata": {
  "kernelspec": {
   "display_name": "Python 3",
   "language": "python",
   "name": "python3"
  },
  "language_info": {
   "codemirror_mode": {
    "name": "ipython",
    "version": 3
   },
   "file_extension": ".py",
   "mimetype": "text/x-python",
   "name": "python",
   "nbconvert_exporter": "python",
   "pygments_lexer": "ipython3",
   "version": "3.6.13"
  }
 },
 "nbformat": 4,
 "nbformat_minor": 5
}
