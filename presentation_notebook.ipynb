{
 "cells": [
  {
   "cell_type": "code",
   "execution_count": 1,
   "id": "84e74bd0",
   "metadata": {},
   "outputs": [
    {
     "name": "stdout",
     "output_type": "stream",
     "text": [
      "time: 4.4 ms (started: 2021-12-04 14:36:03 -05:00)\n"
     ]
    }
   ],
   "source": [
    "import pandas as pd\n",
    "import matplotlib.pyplot as plt\n",
    "import numpy as np\n",
    "from scipy import stats\n",
    "import folium\n",
    "\n",
    "%load_ext autotime"
   ]
  },
  {
   "cell_type": "code",
   "execution_count": null,
   "id": "a7b06681",
   "metadata": {},
   "outputs": [],
   "source": []
  },
  {
   "cell_type": "code",
   "execution_count": null,
   "id": "99805ea1",
   "metadata": {},
   "outputs": [],
   "source": []
  },
  {
   "cell_type": "markdown",
   "id": "259e63a4",
   "metadata": {},
   "source": [
    "<h1 align=\"center\">An Analysis of Worldwide Air Quality</h1>"
   ]
  },
  {
   "cell_type": "markdown",
   "id": "0e0517b7",
   "metadata": {},
   "source": [
    "## Problem Statement"
   ]
  },
  {
   "cell_type": "markdown",
   "id": "1cb3ff29",
   "metadata": {},
   "source": [
    "Our goal of the project was the answer the following question: \n",
    "\n",
    "- Is there a correlation between population size and air quality?\n",
    "- Additionally, is there a correlation between elevation and air quality?\n",
    "- Finally, how does each of the three pollutants correlate with air quality?"
   ]
  },
  {
   "cell_type": "markdown",
   "id": "785d2b74",
   "metadata": {},
   "source": [
    "## Data"
   ]
  },
  {
   "cell_type": "markdown",
   "id": "9101acb3",
   "metadata": {},
   "source": [
    "To answer our questions, we used data from two APIs: Air Quality Programmatic API and the Spott REST API. \n",
    "\n",
    "The Air Quality Programmatic API provides city level data about air quality index and individual pollutants (PM2.5, PM10, Ozone (O3)). The API also provides data on city latitude and longitude. \n",
    "\n",
    "The Spott API provides city level data on population and elevation through directly searching for the city's name. "
   ]
  },
  {
   "cell_type": "markdown",
   "id": "9a874b7f",
   "metadata": {},
   "source": [
    "### Air Quality Programmatic API"
   ]
  },
  {
   "cell_type": "markdown",
   "id": "89cf2944",
   "metadata": {},
   "source": [
    "First, we webscraped data, using Beautiful Soup, to gather the 1000 most populated cities in the world. The website we scraped data from is https://data.mongabay.com/cities_pop_01.htm'.  "
   ]
  },
  {
   "cell_type": "markdown",
   "id": "c92c0fef",
   "metadata": {},
   "source": [
    "Once we webscrapped the 1000 most populated cities, we ran the list of cities through the Air Quality Programmatic API. After dropping N/A data, we stored the data in a csv format. There are 526 rows and 9 columns. The size of the stored data is 35 KB."
   ]
  },
  {
   "cell_type": "code",
   "execution_count": 2,
   "id": "e9b2cab2",
   "metadata": {},
   "outputs": [
    {
     "data": {
      "text/html": [
       "<div>\n",
       "<style scoped>\n",
       "    .dataframe tbody tr th:only-of-type {\n",
       "        vertical-align: middle;\n",
       "    }\n",
       "\n",
       "    .dataframe tbody tr th {\n",
       "        vertical-align: top;\n",
       "    }\n",
       "\n",
       "    .dataframe thead th {\n",
       "        text-align: right;\n",
       "    }\n",
       "</style>\n",
       "<table border=\"1\" class=\"dataframe\">\n",
       "  <thead>\n",
       "    <tr style=\"text-align: right;\">\n",
       "      <th></th>\n",
       "      <th>Unnamed: 0</th>\n",
       "      <th>cities</th>\n",
       "      <th>aqi</th>\n",
       "      <th>latitude</th>\n",
       "      <th>longitude</th>\n",
       "      <th>pm25</th>\n",
       "      <th>pm10</th>\n",
       "      <th>o3</th>\n",
       "      <th>uvi</th>\n",
       "      <th>date</th>\n",
       "    </tr>\n",
       "  </thead>\n",
       "  <tbody>\n",
       "    <tr>\n",
       "      <th>299</th>\n",
       "      <td>504</td>\n",
       "      <td>Yiwu</td>\n",
       "      <td>95</td>\n",
       "      <td>29.306841</td>\n",
       "      <td>120.075058</td>\n",
       "      <td>95.0</td>\n",
       "      <td>28.0</td>\n",
       "      <td>1.0</td>\n",
       "      <td>1.0</td>\n",
       "      <td>11-30-2021</td>\n",
       "    </tr>\n",
       "    <tr>\n",
       "      <th>77</th>\n",
       "      <td>102</td>\n",
       "      <td>Jeddah</td>\n",
       "      <td>147</td>\n",
       "      <td>21.543486</td>\n",
       "      <td>39.172990</td>\n",
       "      <td>147.0</td>\n",
       "      <td>82.0</td>\n",
       "      <td>13.0</td>\n",
       "      <td>1.0</td>\n",
       "      <td>11-30-2021</td>\n",
       "    </tr>\n",
       "    <tr>\n",
       "      <th>410</th>\n",
       "      <td>735</td>\n",
       "      <td>Linqing</td>\n",
       "      <td>102</td>\n",
       "      <td>36.811944</td>\n",
       "      <td>115.733056</td>\n",
       "      <td>102.0</td>\n",
       "      <td>28.0</td>\n",
       "      <td>3.0</td>\n",
       "      <td>1.0</td>\n",
       "      <td>11-30-2021</td>\n",
       "    </tr>\n",
       "    <tr>\n",
       "      <th>307</th>\n",
       "      <td>516</td>\n",
       "      <td>Pingdingshan</td>\n",
       "      <td>85</td>\n",
       "      <td>33.766190</td>\n",
       "      <td>113.192814</td>\n",
       "      <td>85.0</td>\n",
       "      <td>19.0</td>\n",
       "      <td>9.0</td>\n",
       "      <td>1.0</td>\n",
       "      <td>11-30-2021</td>\n",
       "    </tr>\n",
       "    <tr>\n",
       "      <th>296</th>\n",
       "      <td>501</td>\n",
       "      <td>Yulin</td>\n",
       "      <td>55</td>\n",
       "      <td>22.616400</td>\n",
       "      <td>110.143300</td>\n",
       "      <td>55.0</td>\n",
       "      <td>28.0</td>\n",
       "      <td>13.0</td>\n",
       "      <td>2.0</td>\n",
       "      <td>11-30-2021</td>\n",
       "    </tr>\n",
       "  </tbody>\n",
       "</table>\n",
       "</div>"
      ],
      "text/plain": [
       "     Unnamed: 0        cities  aqi   latitude   longitude   pm25  pm10    o3  \\\n",
       "299         504          Yiwu   95  29.306841  120.075058   95.0  28.0   1.0   \n",
       "77          102       Jeddah   147  21.543486   39.172990  147.0  82.0  13.0   \n",
       "410         735       Linqing  102  36.811944  115.733056  102.0  28.0   3.0   \n",
       "307         516  Pingdingshan   85  33.766190  113.192814   85.0  19.0   9.0   \n",
       "296         501        Yulin    55  22.616400  110.143300   55.0  28.0  13.0   \n",
       "\n",
       "     uvi        date  \n",
       "299  1.0  11-30-2021  \n",
       "77   1.0  11-30-2021  \n",
       "410  1.0  11-30-2021  \n",
       "307  1.0  11-30-2021  \n",
       "296  2.0  11-30-2021  "
      ]
     },
     "execution_count": 2,
     "metadata": {},
     "output_type": "execute_result"
    },
    {
     "name": "stdout",
     "output_type": "stream",
     "text": [
      "time: 44.3 ms (started: 2021-12-04 14:36:07 -05:00)\n"
     ]
    }
   ],
   "source": [
    "air_quality_api = pd.read_csv('waqi_df.csv')\n",
    "air_quality_api.sample(5)"
   ]
  },
  {
   "cell_type": "markdown",
   "id": "cdfe1f88",
   "metadata": {},
   "source": [
    "### Spott API"
   ]
  },
  {
   "cell_type": "markdown",
   "id": "57626013",
   "metadata": {},
   "source": [
    "For the Spott API, are main contraint was the number of free requests we received. Per account, Spott only granted us 1000 requests. To limit the number of requests, we made a list of cities from the Air Quality API and ran those cities through the Spott API.\n",
    "\n",
    "We stored the data in a csv format. There are 526 rows and 3 columns. The size of the stored data is 14 KB."
   ]
  },
  {
   "cell_type": "code",
   "execution_count": 3,
   "id": "a9447373",
   "metadata": {},
   "outputs": [
    {
     "data": {
      "text/html": [
       "<div>\n",
       "<style scoped>\n",
       "    .dataframe tbody tr th:only-of-type {\n",
       "        vertical-align: middle;\n",
       "    }\n",
       "\n",
       "    .dataframe tbody tr th {\n",
       "        vertical-align: top;\n",
       "    }\n",
       "\n",
       "    .dataframe thead th {\n",
       "        text-align: right;\n",
       "    }\n",
       "</style>\n",
       "<table border=\"1\" class=\"dataframe\">\n",
       "  <thead>\n",
       "    <tr style=\"text-align: right;\">\n",
       "      <th></th>\n",
       "      <th>Unnamed: 0</th>\n",
       "      <th>Cities</th>\n",
       "      <th>Population</th>\n",
       "      <th>Elevation</th>\n",
       "    </tr>\n",
       "  </thead>\n",
       "  <tbody>\n",
       "    <tr>\n",
       "      <th>236</th>\n",
       "      <td>236</td>\n",
       "      <td>Tianshui</td>\n",
       "      <td>3500000.0</td>\n",
       "      <td>1153.0</td>\n",
       "    </tr>\n",
       "    <tr>\n",
       "      <th>110</th>\n",
       "      <td>110</td>\n",
       "      <td>Denver</td>\n",
       "      <td>682545.0</td>\n",
       "      <td>1609.0</td>\n",
       "    </tr>\n",
       "    <tr>\n",
       "      <th>445</th>\n",
       "      <td>445</td>\n",
       "      <td>Fuxin</td>\n",
       "      <td>689050.0</td>\n",
       "      <td>142.0</td>\n",
       "    </tr>\n",
       "    <tr>\n",
       "      <th>61</th>\n",
       "      <td>61</td>\n",
       "      <td>Detroit</td>\n",
       "      <td>677116.0</td>\n",
       "      <td>183.0</td>\n",
       "    </tr>\n",
       "    <tr>\n",
       "      <th>327</th>\n",
       "      <td>327</td>\n",
       "      <td>Saratov</td>\n",
       "      <td>863725.0</td>\n",
       "      <td>72.0</td>\n",
       "    </tr>\n",
       "  </tbody>\n",
       "</table>\n",
       "</div>"
      ],
      "text/plain": [
       "     Unnamed: 0    Cities  Population  Elevation\n",
       "236         236  Tianshui   3500000.0     1153.0\n",
       "110         110   Denver     682545.0     1609.0\n",
       "445         445     Fuxin    689050.0      142.0\n",
       "61           61  Detroit     677116.0      183.0\n",
       "327         327   Saratov    863725.0       72.0"
      ]
     },
     "execution_count": 3,
     "metadata": {},
     "output_type": "execute_result"
    },
    {
     "name": "stdout",
     "output_type": "stream",
     "text": [
      "time: 14.8 ms (started: 2021-12-04 14:36:08 -05:00)\n"
     ]
    }
   ],
   "source": [
    "spott_api = pd.read_csv('spott_df.csv')\n",
    "spott_api.sample(5)"
   ]
  },
  {
   "cell_type": "markdown",
   "id": "0efdbc29",
   "metadata": {},
   "source": [
    "## Data Cleaning and Manipulation - Julia"
   ]
  },
  {
   "cell_type": "code",
   "execution_count": 4,
   "id": "5e46a7d2",
   "metadata": {},
   "outputs": [
    {
     "name": "stdout",
     "output_type": "stream",
     "text": [
      "time: 5.07 ms (started: 2021-12-04 14:36:41 -05:00)\n"
     ]
    }
   ],
   "source": [
    "import functions"
   ]
  },
  {
   "cell_type": "code",
   "execution_count": null,
   "id": "85f77769",
   "metadata": {},
   "outputs": [],
   "source": []
  },
  {
   "cell_type": "markdown",
   "id": "3cce7000",
   "metadata": {},
   "source": [
    "## Time Complexity - Together"
   ]
  },
  {
   "cell_type": "markdown",
   "id": "324ac928",
   "metadata": {},
   "source": [
    "## Analysis - Analese"
   ]
  },
  {
   "cell_type": "markdown",
   "id": "48c6154f",
   "metadata": {},
   "source": [
    "## Take-aways"
   ]
  },
  {
   "cell_type": "markdown",
   "id": "85505f20",
   "metadata": {},
   "source": [
    "The factor that by far had the highest correlation with Air Quality Index was the measure of the PM25 pollutant. The relationship is strong and appears to be significant. Further testing will more thoroughly analyze the significance of the relationship between PM25 levels and Air Quality Index levels. Another route we could take in the future is to gather data from cities other than the 1000 most populated cities in the world. We wonder how the correlations we analyzed would differ from medium-sized cities and small towns."
   ]
  },
  {
   "cell_type": "markdown",
   "id": "a6f69650",
   "metadata": {},
   "source": [
    "## References"
   ]
  },
  {
   "cell_type": "code",
   "execution_count": null,
   "id": "55ee0459",
   "metadata": {},
   "outputs": [],
   "source": []
  }
 ],
 "metadata": {
  "kernelspec": {
   "display_name": "Python 3",
   "language": "python",
   "name": "python3"
  },
  "language_info": {
   "codemirror_mode": {
    "name": "ipython",
    "version": 3
   },
   "file_extension": ".py",
   "mimetype": "text/x-python",
   "name": "python",
   "nbconvert_exporter": "python",
   "pygments_lexer": "ipython3",
   "version": "3.6.13"
  }
 },
 "nbformat": 4,
 "nbformat_minor": 5
}
